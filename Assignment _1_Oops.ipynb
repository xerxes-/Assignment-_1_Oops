{
 "cells": [
  {
   "cell_type": "code",
   "execution_count": 1,
   "id": "8b6a7b1a-3ff5-4b22-be3e-d3b2d7aa7e3a",
   "metadata": {},
   "outputs": [],
   "source": [
    "class a :\n",
    "    \n",
    "    def test(self):\n",
    "        print(\"this test method is a part of class a\")\n",
    "        \n",
    "    def test1(self):\n",
    "        print(\"this is test1 from class a \")"
   ]
  },
  {
   "cell_type": "code",
   "execution_count": 2,
   "id": "8e4d306f-fdb4-47a0-a93d-597f5b21d30b",
   "metadata": {},
   "outputs": [],
   "source": [
    "obj_a = a()"
   ]
  },
  {
   "cell_type": "code",
   "execution_count": 3,
   "id": "81ef5597-cf96-4ed9-a4f6-21e2e93aca70",
   "metadata": {},
   "outputs": [
    {
     "name": "stdout",
     "output_type": "stream",
     "text": [
      "this test method is a part of class a\n"
     ]
    }
   ],
   "source": [
    "obj_a.test()"
   ]
  },
  {
   "cell_type": "code",
   "execution_count": 4,
   "id": "11ee63d6-433d-48dc-ada0-5dd6771310ba",
   "metadata": {},
   "outputs": [],
   "source": [
    "class b(a) :\n",
    "    def test1b(self):\n",
    "        print(\"this is a part of class b \")"
   ]
  },
  {
   "cell_type": "code",
   "execution_count": 5,
   "id": "badaedfe-57d1-43c6-9193-e5afb0f31dbc",
   "metadata": {},
   "outputs": [],
   "source": [
    "obj_b = b()"
   ]
  },
  {
   "cell_type": "code",
   "execution_count": 6,
   "id": "3ce19f61-ba8e-4050-9d4d-614adfd964c5",
   "metadata": {},
   "outputs": [
    {
     "name": "stdout",
     "output_type": "stream",
     "text": [
      "this test method is a part of class a\n"
     ]
    }
   ],
   "source": [
    "obj_b.test()"
   ]
  },
  {
   "cell_type": "code",
   "execution_count": 7,
   "id": "5e473fae-e094-4407-99df-16a04ab4c80a",
   "metadata": {},
   "outputs": [
    {
     "name": "stdout",
     "output_type": "stream",
     "text": [
      "this is test1 from class a \n"
     ]
    }
   ],
   "source": [
    "obj_b.test1()"
   ]
  },
  {
   "cell_type": "code",
   "execution_count": 9,
   "id": "02a8f055-535f-4bc2-adc1-575445f82570",
   "metadata": {},
   "outputs": [
    {
     "data": {
      "text/plain": [
       "<__main__.b at 0x7fdceaeae710>"
      ]
     },
     "execution_count": 9,
     "metadata": {},
     "output_type": "execute_result"
    }
   ],
   "source": [
    "obj_b"
   ]
  },
  {
   "cell_type": "code",
   "execution_count": 10,
   "id": "59361cd3-c0c4-4ddd-abac-cbe3275ade5f",
   "metadata": {},
   "outputs": [],
   "source": [
    "class lecture:\n",
    "    \n",
    "    def topic(self):\n",
    "        print(\"todays class we are discussing about inheritance condept in oops\")\n",
    "        \n",
    "    def timing(self):\n",
    "        print(\"timing for todays class is 9 AM IST\")\n",
    "        \n",
    "    def end_time(self):\n",
    "        print(\"today i will try to end class bit early\")"
   ]
  },
  {
   "cell_type": "code",
   "execution_count": 11,
   "id": "6e3dd2de-883e-4e9e-98a0-4a7089af1627",
   "metadata": {},
   "outputs": [],
   "source": [
    "class student(lecture):\n",
    "    \n",
    "    def student_details(self):\n",
    "        print(\"this class will give you a student details\")"
   ]
  },
  {
   "cell_type": "code",
   "execution_count": 12,
   "id": "c2ad2a89-0f29-4410-86c4-e33f47b4186d",
   "metadata": {},
   "outputs": [],
   "source": [
    "naval = student()"
   ]
  },
  {
   "cell_type": "code",
   "execution_count": 13,
   "id": "38c86e7f-5560-464a-b597-c88a74819f1a",
   "metadata": {},
   "outputs": [
    {
     "name": "stdout",
     "output_type": "stream",
     "text": [
      "todays class we are discussing about inheritance condept in oops\n"
     ]
    }
   ],
   "source": [
    "naval.topic()"
   ]
  },
  {
   "cell_type": "code",
   "execution_count": 14,
   "id": "02efc8a4-f995-4f85-87d2-620ccc0f61fa",
   "metadata": {},
   "outputs": [
    {
     "name": "stdout",
     "output_type": "stream",
     "text": [
      "timing for todays class is 9 AM IST\n"
     ]
    }
   ],
   "source": [
    "satish = student()\n",
    "satish.timing()"
   ]
  },
  {
   "cell_type": "code",
   "execution_count": 15,
   "id": "03932972-a58b-46e5-a3f8-ffc43c84ce53",
   "metadata": {},
   "outputs": [],
   "source": [
    "class teacher(student):\n",
    "    def details(self):\n",
    "        print(\"this will give you a details about teacher\")"
   ]
  },
  {
   "cell_type": "code",
   "execution_count": 16,
   "id": "fff36c1b-f1e9-467e-b29f-c304aa9feec9",
   "metadata": {},
   "outputs": [
    {
     "name": "stdout",
     "output_type": "stream",
     "text": [
      "timing for todays class is 9 AM IST\n"
     ]
    }
   ],
   "source": [
    "sudh = teacher()\n",
    "sudh.timing()"
   ]
  },
  {
   "cell_type": "code",
   "execution_count": 17,
   "id": "a5e8c94b-de62-4ef5-8eba-81259d83dd3d",
   "metadata": {},
   "outputs": [],
   "source": [
    "class lecture:\n",
    "    def topic(self):\n",
    "        print(\"todays class we are discussing about inheritance condept in oops\")\n",
    "        \n",
    "    def timing(self):\n",
    "        print(\"timing for todays class is 9 AM IST\")\n",
    "        \n",
    "    def end_time(self):\n",
    "        print(\"today i will try to end class bit early\")"
   ]
  },
  {
   "cell_type": "code",
   "execution_count": 18,
   "id": "2007141c-1b71-4cd4-9bed-a3cd8d851baa",
   "metadata": {},
   "outputs": [],
   "source": [
    "class student:\n",
    "    \n",
    "    def student_details(self):\n",
    "        print(\"this class will give you a student details\")\n",
    "        \n",
    "    def timing(self):\n",
    "        print(\"this is a timing fun from student class\")\n",
    "        "
   ]
  },
  {
   "cell_type": "code",
   "execution_count": 19,
   "id": "272860d3-1fac-475b-8c09-0490069224bc",
   "metadata": {},
   "outputs": [],
   "source": [
    "class teacher(lecture,student):\n",
    "    def details(self):\n",
    "        print(\"this will give you a details about teacher\")"
   ]
  },
  {
   "cell_type": "code",
   "execution_count": 20,
   "id": "f4a9ae16-f0e3-4a4a-a003-38773611cd2a",
   "metadata": {},
   "outputs": [],
   "source": [
    "krish = teacher()"
   ]
  },
  {
   "cell_type": "code",
   "execution_count": 21,
   "id": "6dc85f37-219e-4c72-927c-9aebb550fea9",
   "metadata": {},
   "outputs": [
    {
     "name": "stdout",
     "output_type": "stream",
     "text": [
      "timing for todays class is 9 AM IST\n"
     ]
    }
   ],
   "source": [
    "krish.timing()"
   ]
  },
  {
   "cell_type": "code",
   "execution_count": 22,
   "id": "8bcbac88-9172-4a31-a191-9c4b9a1c6eac",
   "metadata": {},
   "outputs": [
    {
     "name": "stdout",
     "output_type": "stream",
     "text": [
      "this class will give you a student details\n"
     ]
    }
   ],
   "source": [
    "krish.student_details()"
   ]
  },
  {
   "cell_type": "markdown",
   "id": "86b47d4f-860e-4702-83a0-0145887ab41a",
   "metadata": {},
   "source": [
    "Problem 1: Bank Account Create a class representing a bank account with attributes like account number, account holder name, and balance. Implement methods to deposit and withdraw money from the account.\n",
    "\n",
    "Problem 2: Employee Management Create a class representing an employee with attributes like employee ID, name, and salary. Implement methods to calculate the yearly bonus and display employee details.\n",
    "\n",
    "Problem 3: Vehicle Rental Create a class representing a vehicle rental system. Implement methods to rent a vehicle, return a vehicle, and display available vehicles.\n",
    "\n",
    "Problem 4: Library Catalog Create classes representing a library and a book. Implement methods to add books to the library, borrow books, and display available books.\n",
    "\n",
    "Problem 5: Product Inventory Create classes representing a product and an inventory system. Implement methods to add products to the inventory, update product quantity, and display available products.\n",
    "\n",
    "Problem 6: Shape Calculation Create a class representing a shape with attributes like length, width, and height. Implement methods to calculate the area and perimeter of the shape.\n",
    "\n",
    "Problem 7: Student Management Create a class representing a student with attributes like student ID, name, and grades. Implement methods to calculate the average grade and display student details.\n",
    "\n",
    "Problem 8: Email Management Create a class representing an email with attributes like sender, recipient, and subject. Implement methods to send an email and display email details.\n",
    "\n",
    "Problem 9: Social Media Profile Create a class representing a social media profile with attributes like username and posts. Implement methods to add posts, display posts, and search for posts by keyword.\n",
    "\n",
    "Problem 10: ToDo List Create a class representing a ToDo list with attributes like tasks and due dates. Implement methods to add tasks, mark tasks as completed, and display pending tasks."
   ]
  },
  {
   "cell_type": "markdown",
   "id": "b354aeaf-4d65-451d-8ec0-576c2a7778d3",
   "metadata": {},
   "source": [
    "### Problem 1: Bank Account Create a class representing a bank account with attributes like account number, account holder name, and balance. Implement methods to deposit and withdraw money from the account."
   ]
  },
  {
   "cell_type": "code",
   "execution_count": 1,
   "id": "dd5dacba-a1ba-4eb1-bc59-3dfae3f3d1b6",
   "metadata": {},
   "outputs": [
    {
     "name": "stdout",
     "output_type": "stream",
     "text": [
      "Amount deposited is 4234. New balance is 504436.\n",
      "Amount debited is 10000. New balance is 494436.\n"
     ]
    }
   ],
   "source": [
    "class BankAccount:\n",
    "    def __init__(self, account_number, acc_hold_name, balance):\n",
    "        self.account_number = account_number\n",
    "        self.acc_hold_name = acc_hold_name\n",
    "        self.balance = balance\n",
    "        \n",
    "    def deposit(self, amt):\n",
    "        self.balance += amt\n",
    "        print(f\"Amount deposited is {amt}. New balance is {self.balance}.\")\n",
    "      \n",
    "    def withdraw(self, debit):\n",
    "        self.balance -= debit\n",
    "        print(f\"Amount debited is {debit}. New balance is {self.balance}.\")\n",
    "        \n",
    "cust = BankAccount(2342, \"Hari\", 500202)\n",
    "cust.deposit(4234)\n",
    "cust.withdraw(10000)"
   ]
  },
  {
   "cell_type": "markdown",
   "id": "cc51926b-0ab8-4b99-82a2-1f6d20e0309c",
   "metadata": {},
   "source": [
    "### Problem 2: Employee Management Create a class representing an employee with attributes like employee ID, name, and salary. Implement methods to calculate the yearly bonus and display employee details."
   ]
  },
  {
   "cell_type": "code",
   "execution_count": 8,
   "id": "1f14aaa8-9533-4464-a32d-27d72c39bae4",
   "metadata": {},
   "outputs": [
    {
     "name": "stdout",
     "output_type": "stream",
     "text": [
      "Yearly bonus of Vishal is 50841.78\n",
      "Employee ID: 2343\n",
      "Name: Vishal\n",
      "Salary: 847363\n"
     ]
    }
   ],
   "source": [
    "class EmployeeManagement:\n",
    "    def __init__(self, employee_id, name, salary):\n",
    "        self.employee_id = employee_id\n",
    "        self.name = name\n",
    "        self.salary = salary\n",
    "    \n",
    "    def calculate_yearly_bonus(self, bonus_percentage):\n",
    "        yearly_bonus = self.salary * (bonus_percentage / 100)\n",
    "        print(f\"Yearly bonus of {self.name} is {yearly_bonus}\")\n",
    "    \n",
    "    def display_details(self):\n",
    "        print(\"Employee ID:\", self.employee_id)\n",
    "        print(\"Name:\", self.name)\n",
    "        print(\"Salary:\", self.salary)\n",
    "        \n",
    "emp = EmployeeManagement(2343, \"Vishal\", 847363)\n",
    "emp.calculate_yearly_bonus(6)\n",
    "emp.display_details()"
   ]
  },
  {
   "cell_type": "markdown",
   "id": "f0bc7549-b740-432d-bfe1-c392ee964dac",
   "metadata": {},
   "source": [
    "### Problem 3: Vehicle Rental Create a class representing a vehicle rental system. Implement methods to rent a vehicle, return a vehicle, and display available vehicles."
   ]
  },
  {
   "cell_type": "code",
   "execution_count": 10,
   "id": "da1f9ad1-7443-4824-84e6-e603baa1608e",
   "metadata": {},
   "outputs": [
    {
     "name": "stdout",
     "output_type": "stream",
     "text": [
      "Available Vehicles:\n",
      "Car\n",
      "Van\n",
      "Truck\n",
      "Car rented successfully.\n",
      "Available Vehicles:\n",
      "Van\n",
      "Truck\n",
      "Car returned successfully.\n",
      "Available Vehicles:\n",
      "Van\n",
      "Truck\n",
      "Car\n"
     ]
    }
   ],
   "source": [
    "class VehicleRental:\n",
    "    def __init__(self, available_vehicles):\n",
    "        self.available_vehicles = available_vehicles\n",
    "\n",
    "    def rent_vehicle(self, vehicle):\n",
    "        if vehicle in self.available_vehicles:\n",
    "            self.available_vehicles.remove(vehicle)\n",
    "            print(f\"{vehicle} rented successfully.\")\n",
    "        else:\n",
    "            print(\"Sorry, the vehicle is not available for rent.\")\n",
    "\n",
    "    def return_vehicle(self, vehicle):\n",
    "        self.available_vehicles.append(vehicle)\n",
    "        print(f\"{vehicle} returned successfully.\")\n",
    "\n",
    "    def display_available_vehicles(self):\n",
    "        if self.available_vehicles:\n",
    "            print(\"Available Vehicles:\")\n",
    "            for vehicle in self.available_vehicles:\n",
    "                print(vehicle)\n",
    "        else:\n",
    "            print(\"No vehicles available for rent.\")\n",
    "\n",
    "\n",
    "v = VehicleRental([\"Car\", \"Van\", \"Truck\"])\n",
    "\n",
    "v.display_available_vehicles()\n",
    "\n",
    "v.rent_vehicle(\"Car\")\n",
    "\n",
    "v.display_available_vehicles()\n",
    "\n",
    "v.return_vehicle(\"Car\")\n",
    "\n",
    "v.display_available_vehicles()\n"
   ]
  },
  {
   "cell_type": "markdown",
   "id": "490f7572-aef4-4778-a6a3-05efa3e7d6dd",
   "metadata": {},
   "source": [
    "### Problem 4: Library Catalog Create classes representing a library and a book. Implement methods to add books to the library, borrow books, and display available books."
   ]
  },
  {
   "cell_type": "code",
   "execution_count": 11,
   "id": "d54c4a25-c64a-44f7-a6e8-e7fe3de143a3",
   "metadata": {},
   "outputs": [
    {
     "name": "stdout",
     "output_type": "stream",
     "text": [
      "Available Books:\n",
      "Python Programming by John Smith\n",
      "Machine Learning by Alice Johnson\n",
      "Data Structures by Bob Brown\n",
      "Book 'Python Programming' borrowed successfully.\n",
      "Book 'Python Programming' is either not available or already borrowed.\n",
      "Available Books:\n",
      "Machine Learning by Alice Johnson\n",
      "Data Structures by Bob Brown\n",
      "Book 'Python Programming' returned successfully.\n",
      "Book 'Python Programming' is either not borrowed or not available in the library.\n",
      "Available Books:\n",
      "Python Programming by John Smith\n",
      "Machine Learning by Alice Johnson\n",
      "Data Structures by Bob Brown\n"
     ]
    }
   ],
   "source": [
    "class Book:\n",
    "    def __init__(self, title, author):\n",
    "        self.title = title\n",
    "        self.author = author\n",
    "        self.borrowed = False\n",
    "\n",
    "    def borrow(self):\n",
    "        \"\"\"Borrow the book.\"\"\"\n",
    "        if not self.borrowed:\n",
    "            self.borrowed = True\n",
    "            return True\n",
    "        else:\n",
    "            return False\n",
    "\n",
    "    def return_book(self):\n",
    "        \"\"\"Return the book.\"\"\"\n",
    "        self.borrowed = False\n",
    "\n",
    "\n",
    "class Library:\n",
    "    def __init__(self):\n",
    "        self.books = []\n",
    "\n",
    "    def add_book(self, book):\n",
    "        \"\"\"Add a book to the library.\"\"\"\n",
    "        self.books.append(book)\n",
    "\n",
    "    def display_available_books(self):\n",
    "        \"\"\"Display available books in the library.\"\"\"\n",
    "        available_books = [book for book in self.books if not book.borrowed]\n",
    "        if available_books:\n",
    "            print(\"Available Books:\")\n",
    "            for book in available_books:\n",
    "                print(f\"{book.title} by {book.author}\")\n",
    "        else:\n",
    "            print(\"No books available.\")\n",
    "\n",
    "    def borrow_book(self, title):\n",
    "        \"\"\"Borrow a book from the library.\"\"\"\n",
    "        for book in self.books:\n",
    "            if book.title == title and not book.borrowed:\n",
    "                book.borrow()\n",
    "                print(f\"Book '{title}' borrowed successfully.\")\n",
    "        print(f\"Book '{title}' is either not available or already borrowed.\")\n",
    "\n",
    "    def return_book(self, title):\n",
    "        \"\"\"Return a borrowed book to the library.\"\"\"\n",
    "        for book in self.books:\n",
    "            if book.title == title and book.borrowed:\n",
    "                book.return_book()\n",
    "                print(f\"Book '{title}' returned successfully.\")\n",
    "        print(f\"Book '{title}' is either not borrowed or not available in the library.\")\n",
    "\n",
    "\n",
    "book1 = Book(\"Python Programming\", \"John Smith\")\n",
    "book2 = Book(\"Machine Learning\", \"Alice Johnson\")\n",
    "book3 = Book(\"Data Structures\", \"Bob Brown\")\n",
    "\n",
    "library = Library()\n",
    "\n",
    "library.add_book(book1)\n",
    "library.add_book(book2)\n",
    "library.add_book(book3)\n",
    "\n",
    "library.display_available_books()\n",
    "\n",
    "library.borrow_book(\"Python Programming\")\n",
    "\n",
    "library.display_available_books()\n",
    "\n",
    "library.return_book(\"Python Programming\")\n",
    "\n",
    "library.display_available_books()\n"
   ]
  },
  {
   "cell_type": "markdown",
   "id": "564c253c-cd99-4bc0-87df-aa8ca917a9a1",
   "metadata": {},
   "source": [
    "### Problem 5: Product Inventory Create classes representing a product and an inventory system. Implement methods to add products to the inventory, update product quantity, and display available products."
   ]
  },
  {
   "cell_type": "code",
   "execution_count": 2,
   "id": "19778ff9-d027-41ab-9676-76ea1d353483",
   "metadata": {},
   "outputs": [
    {
     "name": "stdout",
     "output_type": "stream",
     "text": [
      "Available Products:\n",
      "Laptop - Price: $999, Quantity: 10\n",
      "Smartphone - Price: $699, Quantity: 20\n",
      "Tablet - Price: $299, Quantity: 15\n",
      "Available Products:\n",
      "Laptop - Price: $999, Quantity: 5\n",
      "Smartphone - Price: $699, Quantity: 20\n",
      "Tablet - Price: $299, Quantity: 15\n"
     ]
    }
   ],
   "source": [
    "class Product:\n",
    "    def __init__(self, name, price, quantity):\n",
    "        self.name = name\n",
    "        self.price = price\n",
    "        self.quantity = quantity\n",
    "\n",
    "    def update_quantity(self, new_quantity):\n",
    "        \"\"\"Update the quantity of the product.\"\"\"\n",
    "        self.quantity = new_quantity\n",
    "\n",
    "    def __str__(self):\n",
    "        \"\"\"Return a string representation of the product.\"\"\"\n",
    "        return f\"{self.name} - Price: ${self.price}, Quantity: {self.quantity}\"\n",
    "\n",
    "\n",
    "class InventorySystem:\n",
    "    def __init__(self):\n",
    "        self.products = []\n",
    "\n",
    "    def add_product(self, product):\n",
    "        \"\"\"Add a product to the inventory.\"\"\"\n",
    "        self.products.append(product)\n",
    "\n",
    "    def display_available_products(self):\n",
    "        \"\"\"Display available products in the inventory.\"\"\"\n",
    "        if self.products:\n",
    "            print(\"Available Products:\")\n",
    "            for product in self.products:\n",
    "                print(product)  # this calls str(product) which then calls __str__ that returns a string representation of the product.\n",
    "        else:\n",
    "            print(\"No products available in the inventory.\")\n",
    "\n",
    "# Create products\n",
    "product1 = Product(\"Laptop\", 999, 10)\n",
    "product2 = Product(\"Smartphone\", 699, 20)\n",
    "product3 = Product(\"Tablet\", 299, 15)\n",
    "\n",
    "# Create inventory system\n",
    "inventory = InventorySystem()\n",
    "\n",
    "# Add products to the inventory\n",
    "inventory.add_product(product1)\n",
    "inventory.add_product(product2)\n",
    "inventory.add_product(product3)\n",
    "\n",
    "# Display available products\n",
    "inventory.display_available_products()\n",
    "\n",
    "# Update quantity of a product\n",
    "product1.update_quantity(5)\n",
    "\n",
    "# Display available products after updating quantity\n",
    "inventory.display_available_products()\n"
   ]
  },
  {
   "cell_type": "markdown",
   "id": "90b7b6a6-7ac8-4e0f-b2eb-877bf82a8d77",
   "metadata": {},
   "source": [
    "### Problem 6: Shape Calculation Create a class representing a shape with attributes like length, width, and height. Implement methods to calculate the area and perimeter of the shape."
   ]
  },
  {
   "cell_type": "code",
   "execution_count": 5,
   "id": "a47a02d4-231c-4569-aa4d-59beb7f0bcb1",
   "metadata": {},
   "outputs": [
    {
     "name": "stdout",
     "output_type": "stream",
     "text": [
      "Rectangle Area: 20\n",
      "Rectangle Perimeter: 18\n",
      "Triangle Area: 10.0\n",
      "Triangle Perimeter: 12\n"
     ]
    }
   ],
   "source": [
    "class Shape:\n",
    "    def __init__(self, length=0, width=0, height=0):\n",
    "        self.length = length\n",
    "        self.width = width\n",
    "        self.height = height\n",
    "\n",
    "\n",
    "class Rectangle(Shape):\n",
    "    def calculate_area(self):\n",
    "        \"\"\"Calculate the area of the rectangle.\"\"\"\n",
    "        return self.length * self.width\n",
    "\n",
    "    def calculate_perimeter(self):\n",
    "        \"\"\"Calculate the perimeter of the rectangle.\"\"\"\n",
    "        return 2 * (self.length + self.width)\n",
    "\n",
    "\n",
    "class Triangle(Shape):\n",
    "    def calculate_area(self):\n",
    "        \"\"\"Calculate the area of the triangle.\"\"\"\n",
    "        return 0.5 * self.width * self.height\n",
    "\n",
    "    def calculate_perimeter(self):\n",
    "        \"\"\"Calculate the perimeter of the triangle.\"\"\"\n",
    "        return self.length + self.width + self.height\n",
    "\n",
    "\n",
    "# Create a rectangle\n",
    "rectangle = Rectangle(5, 4)\n",
    "print(\"Rectangle Area:\", rectangle.calculate_area())\n",
    "print(\"Rectangle Perimeter:\", rectangle.calculate_perimeter())\n",
    "\n",
    "# Create a triangle\n",
    "triangle = Triangle(3, 4, 5)\n",
    "print(\"Triangle Area:\", triangle.calculate_area())\n",
    "print(\"Triangle Perimeter:\", triangle.calculate_perimeter())\n"
   ]
  },
  {
   "cell_type": "markdown",
   "id": "f868dd13-42cc-4773-8786-29539e74bf59",
   "metadata": {},
   "source": [
    "### Problem 7: Student Management Create a class representing a student with attributes like student ID, name, and grades. Implement methods to calculate the average grade and display student details."
   ]
  },
  {
   "cell_type": "code",
   "execution_count": 6,
   "id": "24bccde4-edc5-46d4-a702-cdc669a9776d",
   "metadata": {},
   "outputs": [
    {
     "name": "stdout",
     "output_type": "stream",
     "text": [
      "Student ID: 1\n",
      "Name: Alice\n",
      "Grades: [85, 90, 95]\n",
      "Average Grade: 90.0\n",
      "Student ID: 2\n",
      "Name: Bob\n",
      "Grades: []\n",
      "Average Grade: 0\n"
     ]
    }
   ],
   "source": [
    "class Student:\n",
    "    def __init__(self, student_id, name, grades):\n",
    "        self.student_id = student_id\n",
    "        self.name = name\n",
    "        self.grades = grades\n",
    "\n",
    "    def calculate_average_grade(self):\n",
    "        \"\"\"Calculate the average grade of the student.\"\"\"\n",
    "        if not self.grades:\n",
    "            return 0\n",
    "        return sum(self.grades) / len(self.grades)\n",
    "\n",
    "    def display_student_details(self):\n",
    "        \"\"\"Display details of the student.\"\"\"\n",
    "        print(\"Student ID:\", self.student_id)\n",
    "        print(\"Name:\", self.name)\n",
    "        print(\"Grades:\", self.grades)\n",
    "        print(\"Average Grade:\", self.calculate_average_grade())\n",
    "\n",
    "\n",
    "student1 = Student(1, \"Alice\", [85, 90, 95])\n",
    "student1.display_student_details()\n",
    "\n",
    "student2 = Student(2, \"Bob\", [])\n",
    "student2.display_student_details()\n"
   ]
  },
  {
   "cell_type": "markdown",
   "id": "f3ffdfb0-5e7a-436e-91b0-cafe4f9aa87d",
   "metadata": {},
   "source": [
    "### Problem 8: Email Management Create a class representing an email with attributes like sender, recipient, and subject. Implement methods to send an email and display email details."
   ]
  },
  {
   "cell_type": "code",
   "execution_count": 7,
   "id": "ce6265c9-c941-40a9-b995-ea438951899e",
   "metadata": {},
   "outputs": [
    {
     "name": "stdout",
     "output_type": "stream",
     "text": [
      "Email sent from: sender@example.com\n",
      "Email sent to: recipient@example.com\n",
      "Subject: Hello\n",
      "Message: This is a test email.\n",
      "\n",
      "Email Details:\n",
      "Sender: sender@example.com\n",
      "Recipient: recipient@example.com\n",
      "Subject: Hello\n",
      "Message: This is a test email.\n"
     ]
    }
   ],
   "source": [
    "class Email:\n",
    "    def __init__(self, sender, recipient, subject, message):\n",
    "        self.sender = sender\n",
    "        self.recipient = recipient\n",
    "        self.subject = subject\n",
    "        self.message = message\n",
    "\n",
    "    def send_email(self):\n",
    "        \"\"\"Send the email.\"\"\"\n",
    "        print(\"Email sent from:\", self.sender)\n",
    "        print(\"Email sent to:\", self.recipient)\n",
    "        print(\"Subject:\", self.subject)\n",
    "        print(\"Message:\", self.message)\n",
    "\n",
    "    def display_email_details(self):\n",
    "        \"\"\"Display details of the email.\"\"\"\n",
    "        print(\"Sender:\", self.sender)\n",
    "        print(\"Recipient:\", self.recipient)\n",
    "        print(\"Subject:\", self.subject)\n",
    "        print(\"Message:\", self.message)\n",
    "\n",
    "\n",
    "email = Email(\"sender@example.com\", \"recipient@example.com\", \"Hello\", \"This is a test email.\")\n",
    "email.send_email()\n",
    "\n",
    "print(\"\\nEmail Details:\")\n",
    "email.display_email_details()\n"
   ]
  },
  {
   "cell_type": "markdown",
   "id": "da7daf9a-6f7c-46cf-b6e9-c45c311ebef2",
   "metadata": {},
   "source": [
    "### Problem 9: Social Media Profile Create a class representing a social media profile with attributes like username and posts. Implement methods to add posts, display posts, and search for posts by keyword."
   ]
  },
  {
   "cell_type": "code",
   "execution_count": 8,
   "id": "303767c8-d469-41a8-bb05-d46a417d87ec",
   "metadata": {},
   "outputs": [
    {
     "name": "stdout",
     "output_type": "stream",
     "text": [
      "Posts by user123:\n",
      "1. I'm having a great day!\n",
      "2. Just finished a fantastic book.\n",
      "3. Looking for recommendations for a good restaurant.\n",
      "\n",
      "Search Results:\n",
      "Posts containing keyword 'book':\n",
      "1. Just finished a fantastic book.\n"
     ]
    }
   ],
   "source": [
    "class SocialMediaProfile:\n",
    "    def __init__(self, username):\n",
    "        self.username = username\n",
    "        self.posts = []\n",
    "\n",
    "    def add_post(self, post):\n",
    "        \"\"\"Add a post to the profile.\"\"\"\n",
    "        self.posts.append(post)\n",
    "\n",
    "    def display_posts(self):\n",
    "        \"\"\"Display all posts in the profile.\"\"\"\n",
    "        if not self.posts:\n",
    "            print(\"No posts found.\")\n",
    "        else:\n",
    "            print(f\"Posts by {self.username}:\")\n",
    "            for i, post in enumerate(self.posts, start=1):\n",
    "                print(f\"{i}. {post}\")\n",
    "\n",
    "    def search_posts_by_keyword(self, keyword):\n",
    "        \"\"\"Search for posts containing a keyword.\"\"\"\n",
    "        matching_posts = [post for post in self.posts if keyword in post]\n",
    "        if matching_posts:\n",
    "            print(f\"Posts containing keyword '{keyword}':\")\n",
    "            for i, post in enumerate(matching_posts, start=1):\n",
    "                print(f\"{i}. {post}\")\n",
    "        else:\n",
    "            print(f\"No posts found containing keyword '{keyword}'.\")\n",
    "\n",
    "\n",
    "profile = SocialMediaProfile(\"user123\")\n",
    "\n",
    "profile.add_post(\"I'm having a great day!\")\n",
    "profile.add_post(\"Just finished a fantastic book.\")\n",
    "profile.add_post(\"Looking for recommendations for a good restaurant.\")\n",
    "\n",
    "profile.display_posts()\n",
    "\n",
    "print(\"\\nSearch Results:\")\n",
    "profile.search_posts_by_keyword(\"book\")\n"
   ]
  },
  {
   "cell_type": "markdown",
   "id": "df1b818c-7c7e-40e3-b430-d9ea1c55e032",
   "metadata": {},
   "source": [
    "### Problem 10: ToDo List Create a class representing a ToDo list with attributes like tasks and due dates. Implement methods to add tasks, mark tasks as completed, and display pending tasks."
   ]
  },
  {
   "cell_type": "code",
   "execution_count": 9,
   "id": "1cf81973-245b-4293-84d8-854d53b574b4",
   "metadata": {},
   "outputs": [
    {
     "name": "stdout",
     "output_type": "stream",
     "text": [
      "Pending tasks:\n",
      "Complete project (Due: 2024-04-30)\n",
      "Buy groceries (Due: 2024-04-20)\n",
      "Call mom (Due: 2024-04-25)\n",
      "\n",
      "Marking task as completed:\n",
      "Task 'Buy groceries' marked as completed.\n",
      "Pending tasks:\n",
      "Complete project (Due: 2024-04-30)\n",
      "Call mom (Due: 2024-04-25)\n"
     ]
    }
   ],
   "source": [
    "class ToDoList:\n",
    "    def __init__(self):\n",
    "        self.tasks = {}\n",
    "\n",
    "    def add_task(self, task, due_date):\n",
    "        \"\"\"Add a task with its due date to the ToDo list.\"\"\"\n",
    "        self.tasks[task] = due_date\n",
    "\n",
    "    def mark_task_as_completed(self, task):\n",
    "        \"\"\"Mark a task as completed.\"\"\"\n",
    "        if task in self.tasks:\n",
    "            del self.tasks[task]\n",
    "            print(f\"Task '{task}' marked as completed.\")\n",
    "        else:\n",
    "            print(f\"Task '{task}' not found in ToDo list.\")\n",
    "\n",
    "    def display_pending_tasks(self):\n",
    "        \"\"\"Display all pending tasks in the ToDo list.\"\"\"\n",
    "        if not self.tasks:\n",
    "            print(\"No pending tasks.\")\n",
    "        else:\n",
    "            print(\"Pending tasks:\")\n",
    "            for task, due_date in self.tasks.items():\n",
    "                print(f\"{task} (Due: {due_date})\")\n",
    "\n",
    "\n",
    "todo_list = ToDoList()\n",
    "\n",
    "todo_list.add_task(\"Complete project\", \"2024-04-30\")\n",
    "todo_list.add_task(\"Buy groceries\", \"2024-04-20\")\n",
    "todo_list.add_task(\"Call mom\", \"2024-04-25\")\n",
    "\n",
    "todo_list.display_pending_tasks()\n",
    "\n",
    "print(\"\\nMarking task as completed:\")\n",
    "todo_list.mark_task_as_completed(\"Buy groceries\")\n",
    "\n",
    "todo_list.display_pending_tasks()\n"
   ]
  },
  {
   "cell_type": "code",
   "execution_count": null,
   "id": "1c37d811-39dc-44a7-93f8-615b6f3d6e37",
   "metadata": {},
   "outputs": [],
   "source": []
  }
 ],
 "metadata": {
  "kernelspec": {
   "display_name": "Python 3 (ipykernel)",
   "language": "python",
   "name": "python3"
  },
  "language_info": {
   "codemirror_mode": {
    "name": "ipython",
    "version": 3
   },
   "file_extension": ".py",
   "mimetype": "text/x-python",
   "name": "python",
   "nbconvert_exporter": "python",
   "pygments_lexer": "ipython3",
   "version": "3.10.8"
  }
 },
 "nbformat": 4,
 "nbformat_minor": 5
}
